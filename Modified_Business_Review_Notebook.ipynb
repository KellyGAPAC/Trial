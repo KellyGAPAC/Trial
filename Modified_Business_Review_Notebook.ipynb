{
 "cells": [
  {
   "cell_type": "code",
   "execution_count": null,
   "id": "327230e2",
   "metadata": {},
   "outputs": [],
   "source": [
    "\n",
    "import pandas as pd\n",
    "import plotly.express as px\n",
    "\n",
    "# Load the mock dataset\n",
    "df = pd.read_csv(\"mock_brazilian_ecommerce_data.csv\", parse_dates=[\"order_purchase_timestamp\", \"order_delivered_customer_date\", \"order_estimated_delivery_date\"])\n"
   ]
  },
  {
   "cell_type": "markdown",
   "id": "09672971",
   "metadata": {},
   "source": [
    "### Monthly Revenue Trends"
   ]
  },
  {
   "cell_type": "code",
   "execution_count": null,
   "id": "de389f11",
   "metadata": {},
   "outputs": [],
   "source": [
    "\n",
    "df['order_month'] = df['order_purchase_timestamp'].dt.to_period('M').astype(str)\n",
    "monthly_revenue = df.groupby('order_month')['payment_value'].sum().reset_index()\n",
    "fig = px.bar(monthly_revenue, x='order_month', y='payment_value',\n",
    "             labels={'order_month': 'Month', 'payment_value': 'Revenue'},\n",
    "             title='Monthly Revenue Trends')\n",
    "fig.show()\n"
   ]
  },
  {
   "cell_type": "markdown",
   "id": "1f3bf904",
   "metadata": {},
   "source": [
    "### Customer Review Score Distribution"
   ]
  },
  {
   "cell_type": "code",
   "execution_count": null,
   "id": "aab1287d",
   "metadata": {},
   "outputs": [],
   "source": [
    "\n",
    "review_distribution = df['review_score'].value_counts().sort_index().reset_index()\n",
    "review_distribution.columns = ['review_score', 'count']\n",
    "fig = px.bar(review_distribution, x='review_score', y='count',\n",
    "             labels={'review_score': 'Review Score', 'count': 'Number of Reviews'},\n",
    "             title='Customer Review Score Distribution')\n",
    "fig.show()\n"
   ]
  },
  {
   "cell_type": "markdown",
   "id": "6354d7d8",
   "metadata": {},
   "source": [
    "### Delivery Performance: Delay Distribution"
   ]
  },
  {
   "cell_type": "code",
   "execution_count": null,
   "id": "3c2fa523",
   "metadata": {},
   "outputs": [],
   "source": [
    "\n",
    "df['delivery_delay'] = (df['order_delivered_customer_date'] - df['order_estimated_delivery_date']).dt.days\n",
    "fig = px.histogram(df, x='delivery_delay',\n",
    "                   nbins=20,\n",
    "                   labels={'delivery_delay': 'Delivery Delay (days)'},\n",
    "                   title='Delivery Performance: Delay Distribution')\n",
    "fig.show()\n"
   ]
  },
  {
   "cell_type": "markdown",
   "id": "efcec83a",
   "metadata": {},
   "source": [
    "### Customer Segmentation by State"
   ]
  },
  {
   "cell_type": "code",
   "execution_count": null,
   "id": "fa442448",
   "metadata": {},
   "outputs": [],
   "source": [
    "\n",
    "state_orders = df['customer_state'].value_counts().reset_index()\n",
    "state_orders.columns = ['customer_state', 'order_count']\n",
    "fig = px.bar(state_orders, x='customer_state', y='order_count',\n",
    "             labels={'customer_state': 'Customer State', 'order_count': 'Number of Orders'},\n",
    "             title='Customer Segmentation by State')\n",
    "fig.show()\n"
   ]
  }
 ],
 "metadata": {},
 "nbformat": 4,
 "nbformat_minor": 5
}
